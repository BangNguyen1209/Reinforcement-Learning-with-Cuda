{
 "cells": [
  {
   "cell_type": "code",
   "execution_count": 1,
   "id": "ad8769ac",
   "metadata": {
    "execution": {
     "iopub.execute_input": "2024-06-05T11:13:58.693763Z",
     "iopub.status.busy": "2024-06-05T11:13:58.693457Z",
     "iopub.status.idle": "2024-06-05T11:14:05.416023Z",
     "shell.execute_reply": "2024-06-05T11:14:05.415128Z"
    },
    "papermill": {
     "duration": 6.731854,
     "end_time": "2024-06-05T11:14:05.418150",
     "exception": false,
     "start_time": "2024-06-05T11:13:58.686296",
     "status": "completed"
    },
    "tags": []
   },
   "outputs": [
    {
     "data": {
      "text/plain": [
       "device(type='cuda')"
      ]
     },
     "execution_count": 1,
     "metadata": {},
     "output_type": "execute_result"
    }
   ],
   "source": [
    "import torch\n",
    "device = torch.device('cuda' if torch.cuda.is_available() else 'cpu')\n",
    "device"
   ]
  },
  {
   "cell_type": "code",
   "execution_count": 2,
   "id": "84d656bf",
   "metadata": {
    "execution": {
     "iopub.execute_input": "2024-06-05T11:14:07.677005Z",
     "iopub.status.busy": "2024-06-05T11:14:07.676183Z",
     "iopub.status.idle": "2024-06-05T11:14:12.133056Z",
     "shell.execute_reply": "2024-06-05T11:14:12.131792Z"
    },
    "papermill": {
     "duration": 4.467086,
     "end_time": "2024-06-05T11:14:12.135419",
     "exception": false,
     "start_time": "2024-06-05T11:14:07.668333",
     "status": "completed"
    },
    "tags": []
   },
   "outputs": [
    {
     "name": "stdout",
     "output_type": "stream",
     "text": [
      "running install\n",
      "running bdist_egg\n",
      "running egg_info\n",
      "writing lux.egg-info\\PKG-INFO\n",
      "writing dependency_links to lux.egg-info\\dependency_links.txt\n",
      "writing requirements to lux.egg-info\\requires.txt\n",
      "writing top-level names to lux.egg-info\\top_level.txt\n",
      "reading manifest file 'lux.egg-info\\SOURCES.txt'\n",
      "writing manifest file 'lux.egg-info\\SOURCES.txt'\n",
      "installing library code to build\\bdist.win-amd64\\egg\n",
      "running install_lib\n",
      "running build_py\n",
      "copying lux\\__init__.py -> build\\lib\\lux\n",
      "copying sequentially\\agent_personal_custom.py -> build\\lib\\sequentially\n",
      "copying sequentially\\main.py -> build\\lib\\sequentially\n",
      "copying sequentially\\main_lux.py -> build\\lib\\sequentially\n",
      "copying sequentially\\__init__.py -> build\\lib\\sequentially\n",
      "copying lux\\env\\agent.py -> build\\lib\\lux\\env\n",
      "copying lux\\env\\lux_env.py -> build\\lib\\lux\\env\n",
      "copying lux\\env\\__init__.py -> build\\lib\\lux\\env\n",
      "copying lux\\game\\actionable.py -> build\\lib\\lux\\game\n",
      "copying lux\\game\\actions.py -> build\\lib\\lux\\game\n",
      "copying lux\\game\\cell.py -> build\\lib\\lux\\game\n",
      "copying lux\\game\\city.py -> build\\lib\\lux\\game\n",
      "copying lux\\game\\constants.py -> build\\lib\\lux\\game\n",
      "copying lux\\game\\game.py -> build\\lib\\lux\\game\n",
      "copying lux\\game\\game_constants.py -> build\\lib\\lux\\game\n",
      "copying lux\\game\\game_map.py -> build\\lib\\lux\\game\n",
      "copying lux\\game\\game_objects.py -> build\\lib\\lux\\game\n",
      "copying lux\\game\\match_controller.py -> build\\lib\\lux\\game\n",
      "copying lux\\game\\position.py -> build\\lib\\lux\\game\n",
      "copying lux\\game\\replay.py -> build\\lib\\lux\\game\n",
      "copying lux\\game\\resource.py -> build\\lib\\lux\\game\n",
      "copying lux\\game\\unit.py -> build\\lib\\lux\\game\n",
      "copying lux\\game\\__init__.py -> build\\lib\\lux\\game\n",
      "copying lux\\tests\\test_map.py -> build\\lib\\lux\\tests\n",
      "copying lux\\tests\\test_replay.py -> build\\lib\\lux\\tests\n",
      "copying lux\\tests\\__init__.py -> build\\lib\\lux\\tests\n",
      "copying lux\\env\\rng\\rng.py -> build\\lib\\lux\\env\\rng\n",
      "copying lux\\env\\rng\\__init__.py -> build\\lib\\lux\\env\\rng\n",
      "copying lux\\game\\game_constants.json -> build\\lib\\lux\\game\n",
      "copying lux\\env\\rng\\rng.js -> build\\lib\\lux\\env\\rng\n",
      "copying lux\\env\\rng\\seedrandom.js -> build\\lib\\lux\\env\\rng\n",
      "creating build\\bdist.win-amd64\\egg\n",
      "creating build\\bdist.win-amd64\\egg\\lux\n",
      "creating build\\bdist.win-amd64\\egg\\lux\\env\n",
      "copying build\\lib\\lux\\env\\agent.py -> build\\bdist.win-amd64\\egg\\lux\\env\n",
      "copying build\\lib\\lux\\env\\lux_env.py -> build\\bdist.win-amd64\\egg\\lux\\env\n",
      "creating build\\bdist.win-amd64\\egg\\lux\\env\\rng\n",
      "copying build\\lib\\lux\\env\\rng\\rng.js -> build\\bdist.win-amd64\\egg\\lux\\env\\rng\n",
      "copying build\\lib\\lux\\env\\rng\\rng.py -> build\\bdist.win-amd64\\egg\\lux\\env\\rng\n",
      "copying build\\lib\\lux\\env\\rng\\seedrandom.js -> build\\bdist.win-amd64\\egg\\lux\\env\\rng\n",
      "copying build\\lib\\lux\\env\\rng\\__init__.py -> build\\bdist.win-amd64\\egg\\lux\\env\\rng\n",
      "copying build\\lib\\lux\\env\\__init__.py -> build\\bdist.win-amd64\\egg\\lux\\env\n",
      "creating build\\bdist.win-amd64\\egg\\lux\\game\n",
      "copying build\\lib\\lux\\game\\actionable.py -> build\\bdist.win-amd64\\egg\\lux\\game\n",
      "copying build\\lib\\lux\\game\\actions.py -> build\\bdist.win-amd64\\egg\\lux\\game\n",
      "copying build\\lib\\lux\\game\\cell.py -> build\\bdist.win-amd64\\egg\\lux\\game\n",
      "copying build\\lib\\lux\\game\\city.py -> build\\bdist.win-amd64\\egg\\lux\\game\n",
      "copying build\\lib\\lux\\game\\constants.py -> build\\bdist.win-amd64\\egg\\lux\\game\n",
      "copying build\\lib\\lux\\game\\game.py -> build\\bdist.win-amd64\\egg\\lux\\game\n",
      "copying build\\lib\\lux\\game\\game_constants.json -> build\\bdist.win-amd64\\egg\\lux\\game\n",
      "copying build\\lib\\lux\\game\\game_constants.py -> build\\bdist.win-amd64\\egg\\lux\\game\n",
      "copying build\\lib\\lux\\game\\game_map.py -> build\\bdist.win-amd64\\egg\\lux\\game\n",
      "copying build\\lib\\lux\\game\\game_objects.py -> build\\bdist.win-amd64\\egg\\lux\\game\n",
      "copying build\\lib\\lux\\game\\match_controller.py -> build\\bdist.win-amd64\\egg\\lux\\game\n",
      "copying build\\lib\\lux\\game\\position.py -> build\\bdist.win-amd64\\egg\\lux\\game\n",
      "copying build\\lib\\lux\\game\\replay.py -> build\\bdist.win-amd64\\egg\\lux\\game\n",
      "copying build\\lib\\lux\\game\\resource.py -> build\\bdist.win-amd64\\egg\\lux\\game\n",
      "copying build\\lib\\lux\\game\\unit.py -> build\\bdist.win-amd64\\egg\\lux\\game\n",
      "copying build\\lib\\lux\\game\\__init__.py -> build\\bdist.win-amd64\\egg\\lux\\game\n",
      "creating build\\bdist.win-amd64\\egg\\lux\\tests\n",
      "copying build\\lib\\lux\\tests\\test_map.py -> build\\bdist.win-amd64\\egg\\lux\\tests\n",
      "copying build\\lib\\lux\\tests\\test_replay.py -> build\\bdist.win-amd64\\egg\\lux\\tests\n",
      "copying build\\lib\\lux\\tests\\__init__.py -> build\\bdist.win-amd64\\egg\\lux\\tests\n",
      "copying build\\lib\\lux\\__init__.py -> build\\bdist.win-amd64\\egg\\lux\n",
      "creating build\\bdist.win-amd64\\egg\\sequentially\n",
      "copying build\\lib\\sequentially\\agent_personal_custom.py -> build\\bdist.win-amd64\\egg\\sequentially\n",
      "copying build\\lib\\sequentially\\main.py -> build\\bdist.win-amd64\\egg\\sequentially\n",
      "copying build\\lib\\sequentially\\main_lux.py -> build\\bdist.win-amd64\\egg\\sequentially\n",
      "copying build\\lib\\sequentially\\__init__.py -> build\\bdist.win-amd64\\egg\\sequentially\n",
      "byte-compiling build\\bdist.win-amd64\\egg\\lux\\env\\agent.py to agent.cpython-311.pyc\n",
      "byte-compiling build\\bdist.win-amd64\\egg\\lux\\env\\lux_env.py to lux_env.cpython-311.pyc\n",
      "byte-compiling build\\bdist.win-amd64\\egg\\lux\\env\\rng\\rng.py to rng.cpython-311.pyc\n",
      "byte-compiling build\\bdist.win-amd64\\egg\\lux\\env\\rng\\__init__.py to __init__.cpython-311.pyc\n",
      "byte-compiling build\\bdist.win-amd64\\egg\\lux\\env\\__init__.py to __init__.cpython-311.pyc\n",
      "byte-compiling build\\bdist.win-amd64\\egg\\lux\\game\\actionable.py to actionable.cpython-311.pyc\n",
      "byte-compiling build\\bdist.win-amd64\\egg\\lux\\game\\actions.py to actions.cpython-311.pyc\n",
      "byte-compiling build\\bdist.win-amd64\\egg\\lux\\game\\cell.py to cell.cpython-311.pyc\n",
      "byte-compiling build\\bdist.win-amd64\\egg\\lux\\game\\city.py to city.cpython-311.pyc\n",
      "byte-compiling build\\bdist.win-amd64\\egg\\lux\\game\\constants.py to constants.cpython-311.pyc\n",
      "byte-compiling build\\bdist.win-amd64\\egg\\lux\\game\\game.py to game.cpython-311.pyc\n",
      "byte-compiling build\\bdist.win-amd64\\egg\\lux\\game\\game_constants.py to game_constants.cpython-311.pyc\n",
      "byte-compiling build\\bdist.win-amd64\\egg\\lux\\game\\game_map.py to game_map.cpython-311.pyc\n",
      "byte-compiling build\\bdist.win-amd64\\egg\\lux\\game\\game_objects.py to game_objects.cpython-311.pyc\n",
      "byte-compiling build\\bdist.win-amd64\\egg\\lux\\game\\match_controller.py to match_controller.cpython-311.pyc\n",
      "byte-compiling build\\bdist.win-amd64\\egg\\lux\\game\\position.py to position.cpython-311.pyc\n",
      "byte-compiling build\\bdist.win-amd64\\egg\\lux\\game\\replay.py to replay.cpython-311.pyc\n",
      "byte-compiling build\\bdist.win-amd64\\egg\\lux\\game\\resource.py to resource.cpython-311.pyc\n",
      "byte-compiling build\\bdist.win-amd64\\egg\\lux\\game\\unit.py to unit.cpython-311.pyc\n",
      "byte-compiling build\\bdist.win-amd64\\egg\\lux\\game\\__init__.py to __init__.cpython-311.pyc\n",
      "byte-compiling build\\bdist.win-amd64\\egg\\lux\\tests\\test_map.py to test_map.cpython-311.pyc\n",
      "byte-compiling build\\bdist.win-amd64\\egg\\lux\\tests\\test_replay.py to test_replay.cpython-311.pyc\n",
      "byte-compiling build\\bdist.win-amd64\\egg\\lux\\tests\\__init__.py to __init__.cpython-311.pyc\n",
      "byte-compiling build\\bdist.win-amd64\\egg\\lux\\__init__.py to __init__.cpython-311.pyc\n",
      "byte-compiling build\\bdist.win-amd64\\egg\\sequentially\\agent_personal_custom.py to agent_personal_custom.cpython-311.pyc\n",
      "byte-compiling build\\bdist.win-amd64\\egg\\sequentially\\main.py to main.cpython-311.pyc\n",
      "byte-compiling build\\bdist.win-amd64\\egg\\sequentially\\main_lux.py to main_lux.cpython-311.pyc\n",
      "byte-compiling build\\bdist.win-amd64\\egg\\sequentially\\__init__.py to __init__.cpython-311.pyc\n",
      "creating build\\bdist.win-amd64\\egg\\EGG-INFO\n",
      "copying lux.egg-info\\PKG-INFO -> build\\bdist.win-amd64\\egg\\EGG-INFO\n",
      "copying lux.egg-info\\SOURCES.txt -> build\\bdist.win-amd64\\egg\\EGG-INFO\n",
      "copying lux.egg-info\\dependency_links.txt -> build\\bdist.win-amd64\\egg\\EGG-INFO\n",
      "copying lux.egg-info\\requires.txt -> build\\bdist.win-amd64\\egg\\EGG-INFO\n",
      "copying lux.egg-info\\top_level.txt -> build\\bdist.win-amd64\\egg\\EGG-INFO\n",
      "creating 'dist\\lux-0.1.0-py3.11.egg' and adding 'build\\bdist.win-amd64\\egg' to it\n",
      "removing 'build\\bdist.win-amd64\\egg' (and everything under it)\n",
      "Processing lux-0.1.0-py3.11.egg\n",
      "removing 'c:\\users\\msii\\appdata\\local\\programs\\python\\python311\\lib\\site-packages\\lux-0.1.0-py3.11.egg' (and everything under it)\n",
      "creating c:\\users\\msii\\appdata\\local\\programs\\python\\python311\\lib\\site-packages\\lux-0.1.0-py3.11.egg\n",
      "Extracting lux-0.1.0-py3.11.egg to c:\\users\\msii\\appdata\\local\\programs\\python\\python311\\lib\\site-packages\n",
      "Adding lux 0.1.0 to easy-install.pth file\n",
      "\n",
      "Installed c:\\users\\msii\\appdata\\local\\programs\\python\\python311\\lib\\site-packages\\lux-0.1.0-py3.11.egg\n",
      "Processing dependencies for lux==0.1.0\n"
     ]
    },
    {
     "name": "stderr",
     "output_type": "stream",
     "text": [
      "c:\\Users\\MSII\\AppData\\Local\\Programs\\Python\\Python311\\Lib\\site-packages\\setuptools\\_distutils\\cmd.py:66: SetuptoolsDeprecationWarning: setup.py install is deprecated.\n",
      "!!\n",
      "\n",
      "        ********************************************************************************\n",
      "        Please avoid running ``setup.py`` directly.\n",
      "        Instead, use pypa/build, pypa/installer or other\n",
      "        standards-based tools.\n",
      "\n",
      "        See https://blog.ganssle.io/articles/2021/10/setup-py-deprecated.html for details.\n",
      "        ********************************************************************************\n",
      "\n",
      "!!\n",
      "  self.initialize_options()\n",
      "c:\\Users\\MSII\\AppData\\Local\\Programs\\Python\\Python311\\Lib\\site-packages\\setuptools\\_distutils\\cmd.py:66: EasyInstallDeprecationWarning: easy_install command is deprecated.\n",
      "!!\n",
      "\n",
      "        ********************************************************************************\n",
      "        Please avoid running ``setup.py`` and ``easy_install``.\n",
      "        Instead, use pypa/build, pypa/installer or other\n",
      "        standards-based tools.\n",
      "\n",
      "        See https://github.com/pypa/setuptools/issues/917 for details.\n",
      "        ********************************************************************************\n",
      "\n",
      "!!\n",
      "  self.initialize_options()\n",
      "zip_safe flag not set; analyzing archive contents...\n",
      "lux.env.rng.__pycache__.rng.cpython-311: module references __file__\n",
      "lux.game.__pycache__.game_constants.cpython-311: module references __file__\n",
      "lux.tests.__pycache__.test_map.cpython-311: module references __file__\n",
      "lux.tests.__pycache__.test_replay.cpython-311: module references __file__\n",
      "sequentially.__pycache__.main.cpython-311: module references __file__\n",
      "Traceback (most recent call last):\n",
      "  File \"c:\\Users\\MSII\\AppData\\Local\\Programs\\Python\\Python311\\Lib\\site-packages\\pkg_resources\\__init__.py\", line 2744, in _dep_map\n",
      "    return self.__dep_map\n",
      "           ^^^^^^^^^^^^^^\n",
      "  File \"c:\\Users\\MSII\\AppData\\Local\\Programs\\Python\\Python311\\Lib\\site-packages\\pkg_resources\\__init__.py\", line 2856, in __getattr__\n",
      "    raise AttributeError(attr)\n",
      "AttributeError: _Distribution__dep_map\n",
      "\n",
      "During handling of the above exception, another exception occurred:\n",
      "\n",
      "Traceback (most recent call last):\n",
      "  File \"c:\\Users\\MSII\\AppData\\Local\\Programs\\Python\\Python311\\Lib\\site-packages\\pkg_resources\\_vendor\\packaging\\requirements.py\", line 35, in __init__\n",
      "    parsed = _parse_requirement(requirement_string)\n",
      "             ^^^^^^^^^^^^^^^^^^^^^^^^^^^^^^^^^^^^^^\n",
      "  File \"c:\\Users\\MSII\\AppData\\Local\\Programs\\Python\\Python311\\Lib\\site-packages\\pkg_resources\\_vendor\\packaging\\_parser.py\", line 64, in parse_requirement\n",
      "    return _parse_requirement(Tokenizer(source, rules=DEFAULT_RULES))\n",
      "           ^^^^^^^^^^^^^^^^^^^^^^^^^^^^^^^^^^^^^^^^^^^^^^^^^^^^^^^^^^\n",
      "  File \"c:\\Users\\MSII\\AppData\\Local\\Programs\\Python\\Python311\\Lib\\site-packages\\pkg_resources\\_vendor\\packaging\\_parser.py\", line 82, in _parse_requirement\n",
      "    url, specifier, marker = _parse_requirement_details(tokenizer)\n",
      "                             ^^^^^^^^^^^^^^^^^^^^^^^^^^^^^^^^^^^^^\n",
      "  File \"c:\\Users\\MSII\\AppData\\Local\\Programs\\Python\\Python311\\Lib\\site-packages\\pkg_resources\\_vendor\\packaging\\_parser.py\", line 126, in _parse_requirement_details\n",
      "    marker = _parse_requirement_marker(\n",
      "             ^^^^^^^^^^^^^^^^^^^^^^^^^^\n",
      "  File \"c:\\Users\\MSII\\AppData\\Local\\Programs\\Python\\Python311\\Lib\\site-packages\\pkg_resources\\_vendor\\packaging\\_parser.py\", line 147, in _parse_requirement_marker\n",
      "    tokenizer.raise_syntax_error(\n",
      "  File \"c:\\Users\\MSII\\AppData\\Local\\Programs\\Python\\Python311\\Lib\\site-packages\\pkg_resources\\_vendor\\packaging\\_tokenizer.py\", line 165, in raise_syntax_error\n",
      "    raise ParserSyntaxError(\n",
      "pkg_resources._vendor.packaging._tokenizer.ParserSyntaxError: Expected end or semicolon (after version specifier)\n",
      "    opencv-python>=3.\n",
      "                 ~~~^\n",
      "\n",
      "The above exception was the direct cause of the following exception:\n",
      "\n",
      "Traceback (most recent call last):\n",
      "  File \"d:\\KHTN\\ltssUD\\Reinforcement-Learning-with-Cuda\\setup.py\", line 3, in <module>\n",
      "    setup(\n",
      "  File \"c:\\Users\\MSII\\AppData\\Local\\Programs\\Python\\Python311\\Lib\\site-packages\\setuptools\\__init__.py\", line 103, in setup\n",
      "    return distutils.core.setup(**attrs)\n",
      "           ^^^^^^^^^^^^^^^^^^^^^^^^^^^^^\n",
      "  File \"c:\\Users\\MSII\\AppData\\Local\\Programs\\Python\\Python311\\Lib\\site-packages\\setuptools\\_distutils\\core.py\", line 184, in setup\n",
      "    return run_commands(dist)\n",
      "           ^^^^^^^^^^^^^^^^^^\n",
      "  File \"c:\\Users\\MSII\\AppData\\Local\\Programs\\Python\\Python311\\Lib\\site-packages\\setuptools\\_distutils\\core.py\", line 200, in run_commands\n",
      "    dist.run_commands()\n",
      "  File \"c:\\Users\\MSII\\AppData\\Local\\Programs\\Python\\Python311\\Lib\\site-packages\\setuptools\\_distutils\\dist.py\", line 969, in run_commands\n",
      "    self.run_command(cmd)\n",
      "  File \"c:\\Users\\MSII\\AppData\\Local\\Programs\\Python\\Python311\\Lib\\site-packages\\setuptools\\dist.py\", line 968, in run_command\n",
      "    super().run_command(command)\n",
      "  File \"c:\\Users\\MSII\\AppData\\Local\\Programs\\Python\\Python311\\Lib\\site-packages\\setuptools\\_distutils\\dist.py\", line 988, in run_command\n",
      "    cmd_obj.run()\n",
      "  File \"c:\\Users\\MSII\\AppData\\Local\\Programs\\Python\\Python311\\Lib\\site-packages\\setuptools\\command\\install.py\", line 87, in run\n",
      "    self.do_egg_install()\n",
      "  File \"c:\\Users\\MSII\\AppData\\Local\\Programs\\Python\\Python311\\Lib\\site-packages\\setuptools\\command\\install.py\", line 148, in do_egg_install\n",
      "    cmd.run(show_deprecation=False)\n",
      "  File \"c:\\Users\\MSII\\AppData\\Local\\Programs\\Python\\Python311\\Lib\\site-packages\\setuptools\\command\\easy_install.py\", line 437, in run\n",
      "    self.easy_install(spec, not self.no_deps)\n",
      "  File \"c:\\Users\\MSII\\AppData\\Local\\Programs\\Python\\Python311\\Lib\\site-packages\\setuptools\\command\\easy_install.py\", line 686, in easy_install\n",
      "    return self.install_item(None, spec, tmpdir, deps, True)\n",
      "           ^^^^^^^^^^^^^^^^^^^^^^^^^^^^^^^^^^^^^^^^^^^^^^^^^\n",
      "  File \"c:\\Users\\MSII\\AppData\\Local\\Programs\\Python\\Python311\\Lib\\site-packages\\setuptools\\command\\easy_install.py\", line 736, in install_item\n",
      "    self.process_distribution(spec, dist, deps)\n",
      "  File \"c:\\Users\\MSII\\AppData\\Local\\Programs\\Python\\Python311\\Lib\\site-packages\\setuptools\\command\\easy_install.py\", line 785, in process_distribution\n",
      "    distros = WorkingSet([]).resolve(\n",
      "              ^^^^^^^^^^^^^^^^^^^^^^^\n",
      "  File \"c:\\Users\\MSII\\AppData\\Local\\Programs\\Python\\Python311\\Lib\\site-packages\\pkg_resources\\__init__.py\", line 792, in resolve\n",
      "    new_requirements = dist.requires(req.extras)[::-1]\n",
      "                       ^^^^^^^^^^^^^^^^^^^^^^^^^\n",
      "  File \"c:\\Users\\MSII\\AppData\\Local\\Programs\\Python\\Python311\\Lib\\site-packages\\pkg_resources\\__init__.py\", line 2779, in requires\n",
      "    dm = self._dep_map\n",
      "         ^^^^^^^^^^^^^\n",
      "  File \"c:\\Users\\MSII\\AppData\\Local\\Programs\\Python\\Python311\\Lib\\site-packages\\pkg_resources\\__init__.py\", line 2746, in _dep_map\n",
      "    self.__dep_map = self._filter_extras(self._build_dep_map())\n",
      "                                         ^^^^^^^^^^^^^^^^^^^^^\n",
      "  File \"c:\\Users\\MSII\\AppData\\Local\\Programs\\Python\\Python311\\Lib\\site-packages\\pkg_resources\\__init__.py\", line 2774, in _build_dep_map\n",
      "    dm.setdefault(extra, []).extend(parse_requirements(reqs))\n",
      "  File \"c:\\Users\\MSII\\AppData\\Local\\Programs\\Python\\Python311\\Lib\\site-packages\\pkg_resources\\__init__.py\", line 3126, in __init__\n",
      "    super().__init__(requirement_string)\n",
      "  File \"c:\\Users\\MSII\\AppData\\Local\\Programs\\Python\\Python311\\Lib\\site-packages\\pkg_resources\\_vendor\\packaging\\requirements.py\", line 37, in __init__\n",
      "    raise InvalidRequirement(str(e)) from e\n",
      "pkg_resources._vendor.packaging.requirements.InvalidRequirement: Expected end or semicolon (after version specifier)\n",
      "    opencv-python>=3.\n",
      "                 ~~~^\n"
     ]
    }
   ],
   "source": [
    "!python setup.py install"
   ]
  },
  {
   "cell_type": "code",
   "execution_count": 3,
   "id": "e2ae7e3f",
   "metadata": {
    "execution": {
     "iopub.execute_input": "2024-06-05T11:14:12.151885Z",
     "iopub.status.busy": "2024-06-05T11:14:12.151552Z",
     "iopub.status.idle": "2024-06-05T11:14:34.871089Z",
     "shell.execute_reply": "2024-06-05T11:14:34.870226Z"
    },
    "papermill": {
     "duration": 22.730388,
     "end_time": "2024-06-05T11:14:34.873555",
     "exception": false,
     "start_time": "2024-06-05T11:14:12.143167",
     "status": "completed"
    },
    "tags": []
   },
   "outputs": [
    {
     "name": "stderr",
     "output_type": "stream",
     "text": [
      "c:\\Users\\MSII\\AppData\\Local\\Programs\\Python\\Python311\\Lib\\site-packages\\gymnasium\\envs\\registration.py:596: UserWarning: \u001b[33mWARN: plugin: shimmy.registration:register_gymnasium_envs raised Traceback (most recent call last):\n",
      "  File \"c:\\Users\\MSII\\AppData\\Local\\Programs\\Python\\Python311\\Lib\\site-packages\\gymnasium\\envs\\registration.py\", line 594, in load_plugin_envs\n",
      "    fn()\n",
      "  File \"c:\\Users\\MSII\\AppData\\Local\\Programs\\Python\\Python311\\Lib\\site-packages\\shimmy\\registration.py\", line 304, in register_gymnasium_envs\n",
      "    _register_atari_envs()\n",
      "  File \"c:\\Users\\MSII\\AppData\\Local\\Programs\\Python\\Python311\\Lib\\site-packages\\shimmy\\registration.py\", line 205, in _register_atari_envs\n",
      "    import ale_py\n",
      "  File \"c:\\Users\\MSII\\AppData\\Local\\Programs\\Python\\Python311\\Lib\\site-packages\\ale_py\\__init__.py\", line 66, in <module>\n",
      "    register_v0_v4_envs()\n",
      "  File \"c:\\Users\\MSII\\AppData\\Local\\Programs\\Python\\Python311\\Lib\\site-packages\\ale_py\\registration.py\", line 176, in register_v0_v4_envs\n",
      "    _register_rom_configs(legacy_games, obs_types, versions)\n",
      "  File \"c:\\Users\\MSII\\AppData\\Local\\Programs\\Python\\Python311\\Lib\\site-packages\\ale_py\\registration.py\", line 62, in _register_rom_configs\n",
      "    gymnasium.register(\n",
      "    ^^^^^^^^^^^^^^^^^^\n",
      "AttributeError: partially initialized module 'gymnasium' has no attribute 'register' (most likely due to a circular import)\n",
      "\u001b[0m\n",
      "  logger.warn(f\"plugin: {plugin.value} raised {traceback.format_exc()}\")\n"
     ]
    },
    {
     "name": "stdout",
     "output_type": "stream",
     "text": [
      "WARNING:tensorflow:From c:\\Users\\MSII\\AppData\\Local\\Programs\\Python\\Python311\\Lib\\site-packages\\keras\\src\\losses.py:2976: The name tf.losses.sparse_softmax_cross_entropy is deprecated. Please use tf.compat.v1.losses.sparse_softmax_cross_entropy instead.\n",
      "\n"
     ]
    },
    {
     "name": "stderr",
     "output_type": "stream",
     "text": [
      "Running in inference-only mode.\n",
      "c:\\Users\\MSII\\AppData\\Local\\Programs\\Python\\Python311\\Lib\\site-packages\\stable_baselines3\\common\\vec_env\\patch_gym.py:49: UserWarning: You provided an OpenAI Gym environment. We strongly recommend transitioning to Gymnasium environments. Stable-Baselines3 is automatically wrapping your environments in a compatibility layer, which could potentially cause issues.\n",
      "  warnings.warn(\n"
     ]
    },
    {
     "name": "stdout",
     "output_type": "stream",
     "text": [
      "Using cuda device\n",
      "Wrapping the env with a `Monitor` wrapper\n",
      "Wrapping the env in a DummyVecEnv.\n"
     ]
    }
   ],
   "source": [
    "#from stable_baselines3 import PPO  # pip install stable-baselines3\n",
    "from Algorythm.PPO import PPO\n",
    "from stable_baselines3.common.callbacks import CheckpointCallback\n",
    "\n",
    "from importlib import reload\n",
    "import sequentially.agent_personal_custom\n",
    "reload(sequentially.agent_personal_custom) # Reload the file from disk incase the above agent-writing cell block was edited\n",
    "from sequentially.agent_personal_custom import AgentPersonalCustom\n",
    "\n",
    "from lux.env.agent import Agent\n",
    "from lux.env.lux_env import LuxEnvironment\n",
    "from lux.game.constants import LuxMatchConfigs_Default\n",
    "\n",
    "\n",
    "# Default Lux configs\n",
    "configs = LuxMatchConfigs_Default\n",
    "\n",
    "# Create a default opponent agent\n",
    "opponent = Agent()\n",
    "\n",
    "# Create a RL agent in training mode\n",
    "player = AgentPersonalCustom(mode=\"train\")\n",
    "\n",
    "# Create the Lux environment\n",
    "env = LuxEnvironment(configs=configs,\n",
    "                     learning_agent=player,\n",
    "                     opponent_agent=opponent)\n",
    "\n",
    "# Define the model, you can pick other RL algos from Stable Baselines3 instead if you like\n",
    "model = PPO(\"MlpPolicy\",\n",
    "                env,\n",
    "                verbose=1,\n",
    "                tensorboard_log=\"./lux_tensorboard/\",\n",
    "                learning_rate=0.001,\n",
    "                gamma=0.999,\n",
    "                gae_lambda=0.95,\n",
    "                batch_size=2048 * 8,\n",
    "                n_steps=2048 * 8,\n",
    "                device=\"cuda\" if torch.cuda.is_available() else \"cpu\"\n",
    "            )\n",
    "\n",
    "# Define a learning rate schedule\n",
    "# (number of steps, learning_rate)\n",
    "schedule = [\n",
    "    #(2000000, 0.01),\n",
    "    (2, 0.001),\n",
    "    (2, 0.0001),\n",
    "]"
   ]
  },
  {
   "cell_type": "code",
   "execution_count": 4,
   "id": "399f82ff",
   "metadata": {
    "execution": {
     "iopub.execute_input": "2024-06-05T11:14:34.891704Z",
     "iopub.status.busy": "2024-06-05T11:14:34.891140Z",
     "iopub.status.idle": "2024-06-05T11:16:08.975367Z",
     "shell.execute_reply": "2024-06-05T11:16:08.974328Z"
    },
    "papermill": {
     "duration": 94.094784,
     "end_time": "2024-06-05T11:16:08.977388",
     "exception": false,
     "start_time": "2024-06-05T11:14:34.882604",
     "status": "completed"
    },
    "tags": []
   },
   "outputs": [
    {
     "name": "stdout",
     "output_type": "stream",
     "text": [
      "Training model...\n",
      "Logging to ./lux_tensorboard/PPO_0\n"
     ]
    },
    {
     "name": "stdout",
     "output_type": "stream",
     "text": [
      "---------------------------------\n",
      "| rollout/           |          |\n",
      "|    ep_len_mean     | 114      |\n",
      "|    ep_rew_mean     | 0.309    |\n",
      "| time/              |          |\n",
      "|    fps             | 321      |\n",
      "|    iterations      | 1        |\n",
      "|    time_elapsed    | 50       |\n",
      "|    total_timesteps | 16384    |\n",
      "---------------------------------\n",
      "Logging to ./lux_tensorboard/PPO_0\n",
      "---------------------------------\n",
      "| rollout/           |          |\n",
      "|    ep_len_mean     | 96.3     |\n",
      "|    ep_rew_mean     | 0.183    |\n",
      "| time/              |          |\n",
      "|    fps             | 314      |\n",
      "|    iterations      | 1        |\n",
      "|    time_elapsed    | 52       |\n",
      "|    total_timesteps | 32768    |\n",
      "---------------------------------\n",
      "Done training model.\n",
      "Total training time: 104.14764022827148 seconds.\n"
     ]
    }
   ],
   "source": [
    "from stable_baselines3.common.utils import get_schedule_fn\n",
    "import time\n",
    "\n",
    "print(\"Training model...\")\n",
    "start_time = time.time()\n",
    "run_id = 1\n",
    "\n",
    "# Save a checkpoint every 1M steps\n",
    "checkpoint_callback = CheckpointCallback(save_freq=1000000,\n",
    "                                         save_path='./sequentially/',\n",
    "                                         name_prefix=f'rl_model_{run_id}')\n",
    "\n",
    "# Train the policy\n",
    "for steps, learning_rate in schedule:\n",
    "    model.lr_schedule = get_schedule_fn(learning_rate)\n",
    "    model.learn(total_timesteps=steps,\n",
    "                callback=checkpoint_callback,\n",
    "                reset_num_timesteps = False)\n",
    "    \n",
    "end_time = time.time()\n",
    "elapsed_time = end_time - start_time\n",
    "\n",
    "# Save final model\n",
    "model.save(path=f'sequentially/model.zip')\n",
    "\n",
    "print(\"Done training model.\")\n",
    "print(f\"Total training time: {elapsed_time} seconds.\")"
   ]
  },
  {
   "cell_type": "code",
   "execution_count": 5,
   "id": "3f804152",
   "metadata": {
    "execution": {
     "iopub.execute_input": "2024-06-05T11:16:11.021036Z",
     "iopub.status.busy": "2024-06-05T11:16:11.020657Z",
     "iopub.status.idle": "2024-06-05T11:16:14.183770Z",
     "shell.execute_reply": "2024-06-05T11:16:14.182935Z"
    },
    "papermill": {
     "duration": 3.177682,
     "end_time": "2024-06-05T11:16:14.186082",
     "exception": false,
     "start_time": "2024-06-05T11:16:11.008400",
     "status": "completed"
    },
    "tags": []
   },
   "outputs": [
    {
     "name": "stdout",
     "output_type": "stream",
     "text": [
      "No pygame installed, ignoring import\n"
     ]
    }
   ],
   "source": [
    "from kaggle_environments import make\n",
    "import json\n",
    "# make match with empty agent\n",
    "env = make(\"lux_ai_2021\", configuration={\"seed\": 5621242, \"loglevel\": 2, \"annotations\": True}, debug=False)"
   ]
  },
  {
   "cell_type": "code",
   "execution_count": 6,
   "id": "27630d89",
   "metadata": {
    "execution": {
     "iopub.execute_input": "2024-06-05T11:16:14.210706Z",
     "iopub.status.busy": "2024-06-05T11:16:14.210185Z",
     "iopub.status.idle": "2024-06-05T11:16:30.408452Z",
     "shell.execute_reply": "2024-06-05T11:16:30.407434Z"
    },
    "papermill": {
     "duration": 16.212351,
     "end_time": "2024-06-05T11:16:30.410945",
     "exception": false,
     "start_time": "2024-06-05T11:16:14.198594",
     "status": "completed"
    },
    "tags": []
   },
   "outputs": [
    {
     "ename": "KeyError",
     "evalue": "'updates'",
     "output_type": "error",
     "traceback": [
      "\u001b[1;31m---------------------------------------------------------------------------\u001b[0m",
      "\u001b[1;31mKeyError\u001b[0m                                  Traceback (most recent call last)",
      "Cell \u001b[1;32mIn[6], line 2\u001b[0m\n\u001b[0;32m      1\u001b[0m \u001b[38;5;66;03m# Play the environment where the RL agent plays against itself\u001b[39;00m\n\u001b[1;32m----> 2\u001b[0m steps \u001b[38;5;241m=\u001b[39m \u001b[43menv\u001b[49m\u001b[38;5;241;43m.\u001b[39;49m\u001b[43mrun\u001b[49m\u001b[43m(\u001b[49m\u001b[43m[\u001b[49m\u001b[38;5;124;43m\"\u001b[39;49m\u001b[38;5;124;43m./sequentially/main.py\u001b[39;49m\u001b[38;5;124;43m\"\u001b[39;49m\u001b[43m,\u001b[49m\u001b[43m \u001b[49m\u001b[38;5;124;43m\"\u001b[39;49m\u001b[38;5;124;43m./sequentially/main.py\u001b[39;49m\u001b[38;5;124;43m\"\u001b[39;49m\u001b[43m]\u001b[49m\u001b[43m)\u001b[49m\n",
      "File \u001b[1;32mc:\\Users\\MSII\\AppData\\Local\\Programs\\Python\\Python311\\Lib\\site-packages\\kaggle_environments\\core.py:267\u001b[0m, in \u001b[0;36mEnvironment.run\u001b[1;34m(self, agents)\u001b[0m\n\u001b[0;32m    265\u001b[0m start \u001b[38;5;241m=\u001b[39m perf_counter()\n\u001b[0;32m    266\u001b[0m \u001b[38;5;28;01mwhile\u001b[39;00m \u001b[38;5;129;01mnot\u001b[39;00m \u001b[38;5;28mself\u001b[39m\u001b[38;5;241m.\u001b[39mdone \u001b[38;5;129;01mand\u001b[39;00m perf_counter() \u001b[38;5;241m-\u001b[39m start \u001b[38;5;241m<\u001b[39m \u001b[38;5;28mself\u001b[39m\u001b[38;5;241m.\u001b[39mconfiguration\u001b[38;5;241m.\u001b[39mrunTimeout:\n\u001b[1;32m--> 267\u001b[0m     actions, logs \u001b[38;5;241m=\u001b[39m \u001b[43mrunner\u001b[49m\u001b[38;5;241;43m.\u001b[39;49m\u001b[43mact\u001b[49m\u001b[43m(\u001b[49m\u001b[43m)\u001b[49m\n\u001b[0;32m    268\u001b[0m     \u001b[38;5;28mself\u001b[39m\u001b[38;5;241m.\u001b[39mstep(actions, logs)\n\u001b[0;32m    269\u001b[0m \u001b[38;5;28;01mif\u001b[39;00m \u001b[38;5;129;01mnot\u001b[39;00m \u001b[38;5;28mself\u001b[39m\u001b[38;5;241m.\u001b[39mdone \u001b[38;5;129;01mand\u001b[39;00m perf_counter() \u001b[38;5;241m-\u001b[39m start \u001b[38;5;241m>\u001b[39m\u001b[38;5;241m=\u001b[39m \u001b[38;5;28mself\u001b[39m\u001b[38;5;241m.\u001b[39mconfiguration\u001b[38;5;241m.\u001b[39mrunTimeout:\n",
      "File \u001b[1;32mc:\\Users\\MSII\\AppData\\Local\\Programs\\Python\\Python311\\Lib\\site-packages\\kaggle_environments\\core.py:682\u001b[0m, in \u001b[0;36mEnvironment.__agent_runner.<locals>.act\u001b[1;34m(none_action)\u001b[0m\n\u001b[0;32m    678\u001b[0m \u001b[38;5;28;01mif\u001b[39;00m \u001b[38;5;28mlen\u001b[39m(agents) \u001b[38;5;241m!=\u001b[39m \u001b[38;5;28mlen\u001b[39m(\u001b[38;5;28mself\u001b[39m\u001b[38;5;241m.\u001b[39mstate):\n\u001b[0;32m    679\u001b[0m     \u001b[38;5;28;01mraise\u001b[39;00m InvalidArgument(\n\u001b[0;32m    680\u001b[0m         \u001b[38;5;124m\"\u001b[39m\u001b[38;5;124mNumber of agents must match the state length\u001b[39m\u001b[38;5;124m\"\u001b[39m)\n\u001b[1;32m--> 682\u001b[0m act_args \u001b[38;5;241m=\u001b[39m \u001b[43m[\u001b[49m\n\u001b[0;32m    683\u001b[0m \u001b[43m    \u001b[49m\u001b[43m(\u001b[49m\n\u001b[0;32m    684\u001b[0m \u001b[43m        \u001b[49m\u001b[43magent\u001b[49m\u001b[43m,\u001b[49m\n\u001b[0;32m    685\u001b[0m \u001b[43m        \u001b[49m\u001b[38;5;28;43mself\u001b[39;49m\u001b[38;5;241;43m.\u001b[39;49m\u001b[43m__get_shared_state\u001b[49m\u001b[43m(\u001b[49m\u001b[43mi\u001b[49m\u001b[43m)\u001b[49m\u001b[43m,\u001b[49m\n\u001b[0;32m    686\u001b[0m \u001b[43m        \u001b[49m\u001b[38;5;28;43mself\u001b[39;49m\u001b[38;5;241;43m.\u001b[39;49m\u001b[43mconfiguration\u001b[49m\u001b[43m,\u001b[49m\n\u001b[0;32m    687\u001b[0m \u001b[43m        \u001b[49m\u001b[43mnone_action\u001b[49m\u001b[43m,\u001b[49m\n\u001b[0;32m    688\u001b[0m \u001b[43m    \u001b[49m\u001b[43m)\u001b[49m\n\u001b[0;32m    689\u001b[0m \u001b[43m    \u001b[49m\u001b[38;5;28;43;01mfor\u001b[39;49;00m\u001b[43m \u001b[49m\u001b[43mi\u001b[49m\u001b[43m,\u001b[49m\u001b[43m \u001b[49m\u001b[43magent\u001b[49m\u001b[43m \u001b[49m\u001b[38;5;129;43;01min\u001b[39;49;00m\u001b[43m \u001b[49m\u001b[38;5;28;43menumerate\u001b[39;49m\u001b[43m(\u001b[49m\u001b[43magents\u001b[49m\u001b[43m)\u001b[49m\n\u001b[0;32m    690\u001b[0m \u001b[43m\u001b[49m\u001b[43m]\u001b[49m\n\u001b[0;32m    692\u001b[0m \u001b[38;5;28;01mif\u001b[39;00m \u001b[38;5;28mall\u001b[39m((agent \u001b[38;5;129;01mis\u001b[39;00m \u001b[38;5;28;01mNone\u001b[39;00m \u001b[38;5;129;01mor\u001b[39;00m agent\u001b[38;5;241m.\u001b[39mis_parallelizable) \u001b[38;5;28;01mfor\u001b[39;00m agent \u001b[38;5;129;01min\u001b[39;00m agents):\n\u001b[0;32m    693\u001b[0m     \u001b[38;5;28;01mif\u001b[39;00m \u001b[38;5;28mself\u001b[39m\u001b[38;5;241m.\u001b[39mpool \u001b[38;5;129;01mis\u001b[39;00m \u001b[38;5;28;01mNone\u001b[39;00m:\n",
      "File \u001b[1;32mc:\\Users\\MSII\\AppData\\Local\\Programs\\Python\\Python311\\Lib\\site-packages\\kaggle_environments\\core.py:685\u001b[0m, in \u001b[0;36m<listcomp>\u001b[1;34m(.0)\u001b[0m\n\u001b[0;32m    678\u001b[0m \u001b[38;5;28;01mif\u001b[39;00m \u001b[38;5;28mlen\u001b[39m(agents) \u001b[38;5;241m!=\u001b[39m \u001b[38;5;28mlen\u001b[39m(\u001b[38;5;28mself\u001b[39m\u001b[38;5;241m.\u001b[39mstate):\n\u001b[0;32m    679\u001b[0m     \u001b[38;5;28;01mraise\u001b[39;00m InvalidArgument(\n\u001b[0;32m    680\u001b[0m         \u001b[38;5;124m\"\u001b[39m\u001b[38;5;124mNumber of agents must match the state length\u001b[39m\u001b[38;5;124m\"\u001b[39m)\n\u001b[0;32m    682\u001b[0m act_args \u001b[38;5;241m=\u001b[39m [\n\u001b[0;32m    683\u001b[0m     (\n\u001b[0;32m    684\u001b[0m         agent,\n\u001b[1;32m--> 685\u001b[0m         \u001b[38;5;28;43mself\u001b[39;49m\u001b[38;5;241;43m.\u001b[39;49m\u001b[43m__get_shared_state\u001b[49m\u001b[43m(\u001b[49m\u001b[43mi\u001b[49m\u001b[43m)\u001b[49m,\n\u001b[0;32m    686\u001b[0m         \u001b[38;5;28mself\u001b[39m\u001b[38;5;241m.\u001b[39mconfiguration,\n\u001b[0;32m    687\u001b[0m         none_action,\n\u001b[0;32m    688\u001b[0m     )\n\u001b[0;32m    689\u001b[0m     \u001b[38;5;28;01mfor\u001b[39;00m i, agent \u001b[38;5;129;01min\u001b[39;00m \u001b[38;5;28menumerate\u001b[39m(agents)\n\u001b[0;32m    690\u001b[0m ]\n\u001b[0;32m    692\u001b[0m \u001b[38;5;28;01mif\u001b[39;00m \u001b[38;5;28mall\u001b[39m((agent \u001b[38;5;129;01mis\u001b[39;00m \u001b[38;5;28;01mNone\u001b[39;00m \u001b[38;5;129;01mor\u001b[39;00m agent\u001b[38;5;241m.\u001b[39mis_parallelizable) \u001b[38;5;28;01mfor\u001b[39;00m agent \u001b[38;5;129;01min\u001b[39;00m agents):\n\u001b[0;32m    693\u001b[0m     \u001b[38;5;28;01mif\u001b[39;00m \u001b[38;5;28mself\u001b[39m\u001b[38;5;241m.\u001b[39mpool \u001b[38;5;129;01mis\u001b[39;00m \u001b[38;5;28;01mNone\u001b[39;00m:\n",
      "File \u001b[1;32mc:\\Users\\MSII\\AppData\\Local\\Programs\\Python\\Python311\\Lib\\site-packages\\kaggle_environments\\core.py:720\u001b[0m, in \u001b[0;36mEnvironment.__get_shared_state\u001b[1;34m(self, position)\u001b[0m\n\u001b[0;32m    717\u001b[0m             update_props(shared_state[k], state[k], prop[\u001b[38;5;124m\"\u001b[39m\u001b[38;5;124mproperties\u001b[39m\u001b[38;5;124m\"\u001b[39m])\n\u001b[0;32m    718\u001b[0m     \u001b[38;5;28;01mreturn\u001b[39;00m state\n\u001b[1;32m--> 720\u001b[0m \u001b[38;5;28;01mreturn\u001b[39;00m \u001b[43mupdate_props\u001b[49m\u001b[43m(\u001b[49m\n\u001b[0;32m    721\u001b[0m \u001b[43m    \u001b[49m\u001b[38;5;28;43mself\u001b[39;49m\u001b[38;5;241;43m.\u001b[39;49m\u001b[43mstate\u001b[49m\u001b[43m[\u001b[49m\u001b[38;5;241;43m0\u001b[39;49m\u001b[43m]\u001b[49m\u001b[43m,\u001b[49m\n\u001b[0;32m    722\u001b[0m \u001b[43m    \u001b[49m\u001b[43mcopy\u001b[49m\u001b[38;5;241;43m.\u001b[39;49m\u001b[43mdeepcopy\u001b[49m\u001b[43m(\u001b[49m\u001b[38;5;28;43mself\u001b[39;49m\u001b[38;5;241;43m.\u001b[39;49m\u001b[43mstate\u001b[49m\u001b[43m[\u001b[49m\u001b[43mposition\u001b[49m\u001b[43m]\u001b[49m\u001b[43m)\u001b[49m\u001b[43m,\u001b[49m\n\u001b[0;32m    723\u001b[0m \u001b[43m    \u001b[49m\u001b[38;5;28;43mself\u001b[39;49m\u001b[38;5;241;43m.\u001b[39;49m\u001b[43m__state_schema\u001b[49m\u001b[38;5;241;43m.\u001b[39;49m\u001b[43mproperties\u001b[49m\n\u001b[0;32m    724\u001b[0m \u001b[43m\u001b[49m\u001b[43m)\u001b[49m\n",
      "File \u001b[1;32mc:\\Users\\MSII\\AppData\\Local\\Programs\\Python\\Python311\\Lib\\site-packages\\kaggle_environments\\core.py:717\u001b[0m, in \u001b[0;36mEnvironment.__get_shared_state.<locals>.update_props\u001b[1;34m(shared_state, state, schema_props)\u001b[0m\n\u001b[0;32m    715\u001b[0m         state[k] \u001b[38;5;241m=\u001b[39m shared_state[k]\n\u001b[0;32m    716\u001b[0m     \u001b[38;5;28;01melif\u001b[39;00m has(prop, \u001b[38;5;28mdict\u001b[39m, path\u001b[38;5;241m=\u001b[39m[\u001b[38;5;124m\"\u001b[39m\u001b[38;5;124mproperties\u001b[39m\u001b[38;5;124m\"\u001b[39m]):\n\u001b[1;32m--> 717\u001b[0m         \u001b[43mupdate_props\u001b[49m\u001b[43m(\u001b[49m\u001b[43mshared_state\u001b[49m\u001b[43m[\u001b[49m\u001b[43mk\u001b[49m\u001b[43m]\u001b[49m\u001b[43m,\u001b[49m\u001b[43m \u001b[49m\u001b[43mstate\u001b[49m\u001b[43m[\u001b[49m\u001b[43mk\u001b[49m\u001b[43m]\u001b[49m\u001b[43m,\u001b[49m\u001b[43m \u001b[49m\u001b[43mprop\u001b[49m\u001b[43m[\u001b[49m\u001b[38;5;124;43m\"\u001b[39;49m\u001b[38;5;124;43mproperties\u001b[39;49m\u001b[38;5;124;43m\"\u001b[39;49m\u001b[43m]\u001b[49m\u001b[43m)\u001b[49m\n\u001b[0;32m    718\u001b[0m \u001b[38;5;28;01mreturn\u001b[39;00m state\n",
      "File \u001b[1;32mc:\\Users\\MSII\\AppData\\Local\\Programs\\Python\\Python311\\Lib\\site-packages\\kaggle_environments\\core.py:715\u001b[0m, in \u001b[0;36mEnvironment.__get_shared_state.<locals>.update_props\u001b[1;34m(shared_state, state, schema_props)\u001b[0m\n\u001b[0;32m    713\u001b[0m         \u001b[38;5;28;01mdel\u001b[39;00m state[k]\n\u001b[0;32m    714\u001b[0m \u001b[38;5;28;01melif\u001b[39;00m get(prop, \u001b[38;5;28mbool\u001b[39m, path\u001b[38;5;241m=\u001b[39m[\u001b[38;5;124m\"\u001b[39m\u001b[38;5;124mshared\u001b[39m\u001b[38;5;124m\"\u001b[39m], fallback\u001b[38;5;241m=\u001b[39m\u001b[38;5;28;01mFalse\u001b[39;00m):\n\u001b[1;32m--> 715\u001b[0m     state[k] \u001b[38;5;241m=\u001b[39m \u001b[43mshared_state\u001b[49m\u001b[43m[\u001b[49m\u001b[43mk\u001b[49m\u001b[43m]\u001b[49m\n\u001b[0;32m    716\u001b[0m \u001b[38;5;28;01melif\u001b[39;00m has(prop, \u001b[38;5;28mdict\u001b[39m, path\u001b[38;5;241m=\u001b[39m[\u001b[38;5;124m\"\u001b[39m\u001b[38;5;124mproperties\u001b[39m\u001b[38;5;124m\"\u001b[39m]):\n\u001b[0;32m    717\u001b[0m     update_props(shared_state[k], state[k], prop[\u001b[38;5;124m\"\u001b[39m\u001b[38;5;124mproperties\u001b[39m\u001b[38;5;124m\"\u001b[39m])\n",
      "\u001b[1;31mKeyError\u001b[0m: 'updates'"
     ]
    }
   ],
   "source": [
    "# Play the environment where the RL agent plays against itself\n",
    "steps = env.run([\"./sequentially/main.py\", \"./sequentially/main.py\"])"
   ]
  },
  {
   "cell_type": "code",
   "execution_count": null,
   "id": "3c797130",
   "metadata": {
    "execution": {
     "iopub.execute_input": "2024-06-05T11:16:30.434444Z",
     "iopub.status.busy": "2024-06-05T11:16:30.433808Z",
     "iopub.status.idle": "2024-06-05T11:16:30.455814Z",
     "shell.execute_reply": "2024-06-05T11:16:30.455006Z"
    },
    "papermill": {
     "duration": 0.03639,
     "end_time": "2024-06-05T11:16:30.458872",
     "exception": false,
     "start_time": "2024-06-05T11:16:30.422482",
     "status": "completed"
    },
    "tags": []
   },
   "outputs": [],
   "source": [
    "# Render the match\n",
    "env.render(mode=\"ipython\", width=1200, height=800)"
   ]
  }
 ],
 "metadata": {
  "kaggle": {
   "accelerator": "nvidiaTeslaT4",
   "dataSources": [],
   "dockerImageVersionId": 30699,
   "isGpuEnabled": true,
   "isInternetEnabled": true,
   "language": "python",
   "sourceType": "notebook"
  },
  "kernelspec": {
   "display_name": "Python 3.10.5 64-bit",
   "language": "python",
   "name": "python3"
  },
  "language_info": {
   "codemirror_mode": {
    "name": "ipython",
    "version": 3
   },
   "file_extension": ".py",
   "mimetype": "text/x-python",
   "name": "python",
   "nbconvert_exporter": "python",
   "pygments_lexer": "ipython3",
   "version": "3.11.3"
  },
  "papermill": {
   "default_parameters": {},
   "duration": 175.125659,
   "end_time": "2024-06-05T11:16:33.192795",
   "environment_variables": {},
   "exception": null,
   "input_path": "__notebook__.ipynb",
   "output_path": "__notebook__.ipynb",
   "parameters": {},
   "start_time": "2024-06-05T11:13:38.067136",
   "version": "2.5.0"
  },
  "vscode": {
   "interpreter": {
    "hash": "9d0f38c43e833695b71bf06e08ff2bbe0083618b070f508638a70326306b0377"
   }
  }
 },
 "nbformat": 4,
 "nbformat_minor": 5
}
